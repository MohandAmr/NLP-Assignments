{
  "nbformat": 4,
  "nbformat_minor": 0,
  "metadata": {
    "colab": {
      "provenance": []
    },
    "kernelspec": {
      "name": "python3",
      "display_name": "Python 3"
    },
    "language_info": {
      "name": "python"
    }
  },
  "cells": [
    {
      "cell_type": "code",
      "source": [
        "!pip install requests beautifulsoup4 nltk\n"
      ],
      "metadata": {
        "id": "MA4I7V9AGSZx",
        "colab": {
          "base_uri": "https://localhost:8080/"
        },
        "outputId": "8eb90172-c3b9-4f41-ea4a-833038a7a773"
      },
      "execution_count": null,
      "outputs": [
        {
          "output_type": "stream",
          "name": "stdout",
          "text": [
            "Requirement already satisfied: requests in /usr/local/lib/python3.10/dist-packages (2.31.0)\n",
            "Requirement already satisfied: beautifulsoup4 in /usr/local/lib/python3.10/dist-packages (4.12.3)\n",
            "Requirement already satisfied: nltk in /usr/local/lib/python3.10/dist-packages (3.8.1)\n",
            "Requirement already satisfied: charset-normalizer<4,>=2 in /usr/local/lib/python3.10/dist-packages (from requests) (3.3.2)\n",
            "Requirement already satisfied: idna<4,>=2.5 in /usr/local/lib/python3.10/dist-packages (from requests) (3.6)\n",
            "Requirement already satisfied: urllib3<3,>=1.21.1 in /usr/local/lib/python3.10/dist-packages (from requests) (2.0.7)\n",
            "Requirement already satisfied: certifi>=2017.4.17 in /usr/local/lib/python3.10/dist-packages (from requests) (2024.2.2)\n",
            "Requirement already satisfied: soupsieve>1.2 in /usr/local/lib/python3.10/dist-packages (from beautifulsoup4) (2.5)\n",
            "Requirement already satisfied: click in /usr/local/lib/python3.10/dist-packages (from nltk) (8.1.7)\n",
            "Requirement already satisfied: joblib in /usr/local/lib/python3.10/dist-packages (from nltk) (1.3.2)\n",
            "Requirement already satisfied: regex>=2021.8.3 in /usr/local/lib/python3.10/dist-packages (from nltk) (2023.12.25)\n",
            "Requirement already satisfied: tqdm in /usr/local/lib/python3.10/dist-packages (from nltk) (4.66.2)\n"
          ]
        }
      ]
    },
    {
      "cell_type": "code",
      "source": [
        "import nltk\n",
        "nltk.download('punkt')\n",
        "nltk.download('stopwords')\n",
        "nltk.download('wordnet')\n"
      ],
      "metadata": {
        "id": "uN95J7_pHAos",
        "colab": {
          "base_uri": "https://localhost:8080/"
        },
        "outputId": "107a424a-75d7-4755-8e00-eee0b846c0fa"
      },
      "execution_count": null,
      "outputs": [
        {
          "output_type": "stream",
          "name": "stderr",
          "text": [
            "[nltk_data] Downloading package punkt to /root/nltk_data...\n",
            "[nltk_data]   Unzipping tokenizers/punkt.zip.\n",
            "[nltk_data] Downloading package stopwords to /root/nltk_data...\n",
            "[nltk_data]   Unzipping corpora/stopwords.zip.\n",
            "[nltk_data] Downloading package wordnet to /root/nltk_data...\n"
          ]
        },
        {
          "output_type": "execute_result",
          "data": {
            "text/plain": [
              "True"
            ]
          },
          "metadata": {},
          "execution_count": 2
        }
      ]
    },
    {
      "cell_type": "markdown",
      "source": [
        "# Imports\n"
      ],
      "metadata": {
        "id": "9n-GNqfdIIBh"
      }
    },
    {
      "cell_type": "code",
      "source": [
        "import requests\n",
        "from bs4 import BeautifulSoup\n",
        "import re\n",
        "from nltk.tokenize import word_tokenize\n",
        "from nltk.corpus import stopwords\n",
        "from nltk.stem import WordNetLemmatizer\n"
      ],
      "metadata": {
        "id": "vX3Ru4bgINJf"
      },
      "execution_count": null,
      "outputs": []
    },
    {
      "cell_type": "markdown",
      "source": [
        "# Step 1: Get HTML from URL\n"
      ],
      "metadata": {
        "id": "F0apAVUaIUGW"
      }
    },
    {
      "cell_type": "code",
      "source": [
        "url = \"https://codeforces.com/\"\n",
        "response = requests.get(url)\n",
        "html = response.text"
      ],
      "metadata": {
        "id": "8f58V37ZIfmX"
      },
      "execution_count": null,
      "outputs": []
    },
    {
      "cell_type": "markdown",
      "source": [
        "# Step 2: Extract text from HTML\n"
      ],
      "metadata": {
        "id": "1tZR99W_Ijo0"
      }
    },
    {
      "cell_type": "code",
      "source": [
        "soup = BeautifulSoup(html, \"html.parser\")\n",
        "text = soup.get_text()\n"
      ],
      "metadata": {
        "id": "Xl2lLS_5Ik09"
      },
      "execution_count": null,
      "outputs": []
    },
    {
      "cell_type": "markdown",
      "source": [
        "# Step 3: Apply preprocessing\n",
        "* # Clean the text (remove non-alphanumeric characters, extra spaces, etc.)\n",
        "* # Normalize the text (convert to lowercase)\n",
        "* # Tokenization\n",
        "* # Remove stop words\n",
        "* # Lemmatization\n"
      ],
      "metadata": {
        "id": "t3eK8_QsIra7"
      }
    },
    {
      "cell_type": "code",
      "source": [
        "# Clean the text (remove non-alphanumeric characters, extra spaces, etc.)\n",
        "clean_text = re.sub(r\"[^a-zA-Z0-9]\", \" \", text)\n",
        "clean_text = re.sub(r\"\\s+\", \" \", clean_text)\n"
      ],
      "metadata": {
        "id": "aACSqdXKJFxi"
      },
      "execution_count": null,
      "outputs": []
    },
    {
      "cell_type": "code",
      "source": [
        "# Normalize the text (convert to lowercase)\n",
        "clean_text = clean_text.lower()\n"
      ],
      "metadata": {
        "id": "EroAIaR_Jna9"
      },
      "execution_count": null,
      "outputs": []
    },
    {
      "cell_type": "code",
      "source": [
        "# Tokenization\n",
        "tokens = word_tokenize(clean_text)\n"
      ],
      "metadata": {
        "id": "uUr6Spe_JtVC"
      },
      "execution_count": null,
      "outputs": []
    },
    {
      "cell_type": "code",
      "source": [
        "# Remove stop words\n",
        "stop_words = set(stopwords.words(\"english\"))\n",
        "filtered_tokens = [word for word in tokens if word not in stop_words]\n"
      ],
      "metadata": {
        "id": "mh-ZXUVcJwJh"
      },
      "execution_count": null,
      "outputs": []
    },
    {
      "cell_type": "code",
      "source": [
        "# Lemmatization\n",
        "lemmatizer = WordNetLemmatizer()\n",
        "lemmatized_tokens = [lemmatizer.lemmatize(word) for word in filtered_tokens]\n",
        "\n"
      ],
      "metadata": {
        "id": "SdQgR9h0J3MB"
      },
      "execution_count": null,
      "outputs": []
    },
    {
      "cell_type": "markdown",
      "source": [
        "# Step 4: Get unique words\n"
      ],
      "metadata": {
        "id": "S_V7iylZJ75U"
      }
    },
    {
      "cell_type": "code",
      "execution_count": null,
      "metadata": {
        "id": "y2XkcpsAE76Y"
      },
      "outputs": [],
      "source": [
        "unique_words = set(lemmatized_tokens)\n"
      ]
    },
    {
      "cell_type": "code",
      "source": [
        "\n",
        "print(\"Unique words:\", unique_words)"
      ],
      "metadata": {
        "colab": {
          "base_uri": "https://localhost:8080/"
        },
        "id": "YUKY_CJQHCbi",
        "outputId": "562f8909-6372-4e8f-acda-6e229c43cc57"
      },
      "execution_count": null,
      "outputs": [
        {
          "output_type": "stream",
          "name": "stdout",
          "text": [
            "Unique words: {'fully', 'cnnfls', 'segment', 'blog', '3561', 'feature', '507', 'makrav', '3534', 'lloyj', 'copy', 'tourist2', 'solve', 'help', 'unsporting', 'ordered', 'tuned', 'take', 'judgement', '15', 'huikang', 'view', 'enjoyed', 'tibinyte', 'dart', 'vaaven', '934', '1', '3532', 'bleddest', 'tzc', 'regardless', 'goodbye', 'errorgorn', '3000', 'contrib', '50', '932', 'useful', 'done', 'lower', 'single', '3572', 'mhtkrag', 'ineedcarb', 'datskovskiy', 'irmuun', 'jdurie', 'somethingnew', '903', 'dominater069', 'panel', 'switch', '3250upd2', 'kseniashk', 'impossible', 'meredova', 'bugrova', '9', 'kcodex4', 'supported', 'buzzword', 'wrong', 'antonis', 'hitonanode', 'vote', 'table', 'toy', '751', '274', 'edu', 'guided', 'stronger', 'banis', 'comment', 'boaca', 'yellow', 'mishgun', 'posted', 'amir', 'submitting', 'playoff', 'flakes24', 'bernard', 'mescheryakov', 'vito1036', 'bf', '18', 'participation', 'web', 'invented', '376', 'coordination', 'kapt', 'big', 'kihihihi', '163', 'burnedchicken', 'dhyang24', 'rated', 'regex', 'rudolf', 'awoo', 'hello', 'phase', '657', 'ugly2333', 'pufl', 'testing', 'mikhango', 'rebelz', 'especially', 'brave', 'khoo', 'penguin', 'public', 'round', 'helping', 'desktop', 'server', 'however', '500', 'fonseca', 'secondthread', 'regional', 'noogler', '933', 'link', 'moonpie24', 'pavement', '4', 'contributor', 'held', 'defnotmee', 'androsov', 'roman', 'kostia244', '49', '8', 'similarly', 'division', '167', 'detailed', 'waipoli', 'izhtskiytimofey', 'inviting', 'asked', '83', 'list', 'soon', 'partnership', 'alexashkins', '930', 'andreeva', 'question', 'berr', 'origination', 'thank', 'red', '05', '282', 'adventure', 'inhabitant', 'wanyuanshenwande2', 'dv', 'disbalance', 'abhishek', 'editorial', 'setting', '5', 'mkshh', 'distributed', 'interactive', 'huge', 'recent', 'csy', '228', 'time', 't0rtik', '6', 'remember', 'almost', 'make', 'offline', 'glad', 'member', 'handle', 'pretests', 'adamant', 'complete', 'andrei', 'hosted', 'lh', 'term', 'utc', 'believe', 'moscow', 'jonathanirvings', '3539', 'changed', '487', 'programmer', 'vladmart', 'sheep', 'submission', 'championship', 'icpc', 'still', 'ai', 'elwasefi', 'given', 'cm', 'valuable', 'priety', '20', 'expected', 'penalty', 'teraqqq', '3409', 'kirito', 'face', 'tried', 'introduced', 'many', 'choose', 'congratulation', 'please', 'schedule', 'hack', '2100', 'ringku', '29', 'agafonovartem', 'tourist', 'beek', 'aufannn', 'trusted', 'jamessngg', 'nascimento', '931', 'restless', 'tested', 'judged', 'vikram108', 'named', 'thus', 'xiang', 'ch', 'mike', 'format', 'skill', 'jiangly', 'benq', 'upd4', 'daha', 'chaabouni', 'ioi', 'avdovin', 'might', 'j1', 'orzdevinwang', 'based', 'cyan', 'limbo16', 'worth', 'preferred', 'tey', 'engineer', 'helen', 'unfamiliar', 'fun', 'step', 'zwezdinv', 'mordvin13', 'fbi', 'type', 'difficulty', 'mouse', '802', 'march', 'codech', 'incorrect', 'ensure', 'top', 'register', 'ray', '567', 'used', 'v', 'participant', 'far', 'vtlobong', 'coordinating', '3593', 'golions', 'affected', 'tiberiu', 'official', 'q1w2e3r4', 'country', 'verdict', 'parsa', 'unofficially', '1900', 'informatics', 'atcoder', 'na', 'vieira', 'good', 'consists', 'siganai', 'kid', 'senjougaharin', 'unfortunately', 'matthew', 'full', 'distribution', 'qualify', 'upd3', 'danilov', 'um', 'oinng123div1', 'school', 'srivastava', 'catch', 'gadget', 'sng', 'subtasks', 'providing', 'solution', '32', '622', 'com', 'div1', '7', 'note', 'goff', 'milind0110', 'api', 'james', 'maskara', 'keep', 'yi', 'notification', 'optoed', 'mobile', 'olympiad', 'postponed', 'maksim', 'photo', 'matrosk1n', 'prepare', 'last', 'boris', 'special', 'lunchbox', '680', '30', 'megapolis', 'constraint', 'erniepsycholone', '3250', 'joining', 'rui', 'chinbat', 'adikolon', 'detail', 'praneeth6116', 'akshaykhandelwal', 'jgjgjjg', 'platform', 'dalabaev', 'announced', 'silver', 'arcanjo', '611', 'suggestion', 'ljl', 'kaitokid', 'privacy', 'result', 'two', 'seem', 'xor', 'refer', '156', 'programming', 'vgtcross', '159', 'path', 'g', 'adedalic', 'young', 'lenlen', 'available', 'ffao', 'kobets', 'end', 'milind', 'know', 'read', '401', 'htetgm', 'thescrasse', 'milnehello', 'k', 'iluminat', 'aryanc403', 'hyp0cr1t3', '441', 'pleasure', 'onehundredpushups', 'penguin133', 'dolmatov', 'akkayht', 'hope', 'later', 'shade34', 'mirror', 'request', 'v0s7er', 'gym', 'dshindov', 'perlentaucher', 'coci', 'everule', 'nurturing', 'statement', 'participate', 'yakuri354', 'organization', 'croatian', 'ahmad45123', 'max0000561', 'simple', 'satskynerfed', 'petrov', 'mathematician', 'pedagogical', 'nikitun', 'live', 'postpone', 'use', 'sk0rlupka', 'sync', '164', 'maomao90', 'contest', '3640', 'love', 'technical', '2024', 'vyacheslav', 'online', 'fairwell', 'software', '0', '1750', 'accessed', 'yugandhar', '07', 'number', 'upd', 'vkosp', 'div', '3', 'cjc', 'dasha', 'soham976roy', 'partial', 'tree', 'sugar', 'peshkov', 'value', 'mrdelrus', 'ber', 'translation', 'preliminary', 'vladosiya', 'level', 'makarchik', 'evenvalue', 'gornak40', 'braver', 'theme', 'guide', '174', 'xp', 'nsqrtlog', 'jiangly3', 'kniazevskiy', 'karpov', 'straw', 'alexander', 'superhard', 'week', 'blook', 'lemoncookie', 'ntonee', 'np', 'yakovlya', 'white', 'gyh204', 'spicyoctopus', 'entire', 'competitive', 'avoid', 'magicalflower', 'enter', 'improving', 'jeroen', 'akulyat', 'mily5', 'zengminghao', 'jabersh1', 'gas', 'university', 'cozma', 'world', 'gurovic', 'mlmlml', 'judgesupd1', 'expert', 'proposing', 'group', '935', '852', 'yuan', 'div3', 'c', 'run', '12', 'sorry', 'copyright', 'k1r1t0', 'funny', 'gupta', 'stage', 'dimonkrutoi', '9am', 'continue', 'behavior', 'leyeli', 'neon', 'received', 'measure', '1e11', 'wildcard', 'satyam343', 'action', 'savchuk', 'sochu', 'alireza', 'le', 'instead', 'minute', 'improve', 'strictly', 'pupil', 'point', 'kirill', 'announcement', 'beloved', 'kaviani', 'confusion', 'student', 'induk', 'hi', 'damjandavkov', 'also', 'invite', '19', 'national', 'hour', 'invitation', 'weobe', 'absurdman', 'advice', 'eolymp', 'dashboard', 'decided', 'multiple', 'siberian', 'shreyan', 'mohoxpom', 'feedback', '3408', 'ansergeyg', 'satyam', 'pajenegod', 'match', 'rule', 'preparing', 'tsiane', 'xviii', '2018lzy', 'contestcodeforces', 'ashley', 'advance', 'system', 'receives', 'talant', 'brother', 'practice', 'maglysh', 'kumar', '4500', 'announce', 'keeping', 'although', 'winner', 'hexshift', 'mafailure', 'weekend', 'amenotiomoi', '229', 'egorsa', 'roh', 'k1sara', 'everyone', 'andreypavlov', 'home', 'unusual', 'e', '09', '16', 'aryan', 'issa', 'iceknight1093', 'little', 'issue', 'esin', 'jakhar', 'subtask', 'nik', 'babin', 'leaderboard', 'dognotlike', 'junior', 'fedshat', '188', 'grphil', '2010', 'blue', 'ormlis', 'preparation', 'glazov', 'artyom123', 'smarter', 'leonardo', 'select', 'character', 'midnight', 'btopou', 'lvl99', 'written', 'ashmelev', 'year', 'third', 'u', '433', 'included', '13', '2000', 'different', 'english', 'sergeev', 'delayed', 'analysis', 'turmax', 'ananasclassic', 'want', 'catalog', 'rey', 'fd', 'may', 'place', 'sunsh1ne', 'scientific', 'win', 'start', 'compose', '2250', 'chromate00', 'qualdoom', 'change', 'strong', 'mikemirzayanov', '147', 'shnirelman', 'teacher', 'radewoosh', 'wuhudsm', 'several', 'elyes', 'wjli', 'streak', 'personal', '2', 'benefit', 'gargera0', 'pranjal', 'google', 'feb', 'final', '516', 'camc', 'entry', 'irkstepanov', 'master', 'wk3', '2500', 'frequently', 'cognition', '466', 'elyeschaabouni', 'kaio', 'roi', 'specialist', 'temporarily', 'committee', 'conduct', 'sha', 'igm', 'alexey', 'aleksei', 'long', 'kaido', 'competition', 'mangooste', 'codeforces', '154', 'upd2', 'calendar', 'access', '99', 'pleased', 'mvkaio', 'icyo', 'task', 'fast', 'tikhon228', 'titoffifee', 'upcoming', 'devin', 'op', 'sweezy', 'say', '255', 'scoreboard', 'quality', '08', 'fan', 'queue', 'sasha0738', 'viktorsm', 'asia', 'history', 'pay', '100', 'editorialupd', 'writer', 'coordinator', 'roy', 'score', 'three', 'author', 'theevilbird', 'think', 'performersdiv', 'azureglow', '829', 'non', 'neapolis', 'gm', '704', 'extended', '345', 'authored', 'ivan', 'blxst', 'lying', 'stepan', '869', 'coderdhanraj', 'combating', 'new', 'curse', 'find', 'originally', 'towards', 'noinoiio', 'negative', 'whose', 'hriday', 'everybody', 'unrated', 'dan', 'practicing', 'adventofcode', '583', 'parttimecoder', 'luck', 'green', 'tester', 'thanks', 'tyx2019', '327', 'beautiful', 'therefore', 'apologize', 'style', 'tulgu', 'polygon', 'er', 'pafos', 'longest', 'gray', 'scheduled', 'http', 'illegal', 'aws', 'sharma', 'day', 'natalina', 'see', 'thomas', 'alexxela12345', 'either', 'komarov', 'rddccd', 'test', '305', 'consisting', 'interview', 'policy', 'standing', 'zhilina', 'prepared', 'bangladesh', '707', '727', 'dev', 'jeroenodb', 'five', 'khaser', 'next', 'individual', 'robotolev', '35', 'locally', '541', 'mirzayanov', 'cpm', 'arvindf232', '14', 'pa', 'jain', 'gyh20', 'kulkarni', 'papaz239', 'direction', 'kizaru', 'im', '342', 'peshkoff', 'adeptexiao', 'textbf', 'user', 'jiay19', 'kostia', 'name', 'sashat9', 'isaf27', 'creating', 'least', 'pacific', 'pakhomovee', 'one', 'second', '290', '11', 'first', 'code', 'wish', 'geothermal', 'earn', 'stay', 'ianlsam', '1600', 'original', 'sakura', 'difficult', '211', 'amethyst0', 'error', 'arpa', 'enjoy', 'tiom4eg', '126654', 'livestreamed', 'page', 'valente', '1250', 'alexdat2000', 'rom', 'problem', 'newbie', 'expensiveac', 'text', 'mean', 'rating', 'compiler', '1000', 'adilbek', 'proposed', 'gcc', 'case', 'pro', 'scoring', 'winning', 'region', '173', 'ecnerwala', 'aditya', 'zixuan', 'maroonrk', 'post', 'carnation13', '145', 'sergey', 'combined', 'luan', '34', 'compulsory', 'dedicated', 'city', 'attention', '259', 'report', 'mressiorx', 'hxu10', 'liparcanjo', '929', 'insomnia', 'chen', '998kover', 'version', '57', '160', '17', '1500', 'let', 'ago', 'ahmad', 'aryan12', 'alex', 'psychotic', '10', 'comparable', 'codula', 'occur', '3447', 'interesting', '64', 'yan', 'vovuh', 'stefan', 'become', 'great', 'harsh', 'mar', 'regular', 'jared', 'felixdzerzhinsky', 'meowcneil', '206', 'xeyter', '2023', 'try', '594', 'center', 'parsh', 'must', 'chien', 'wonderful', 'mingyu331', '775', 'created', 'err', 'benq5', 'kniaz', 'offered', 'like', 'dorijanlendvaj', 'rank', 'vercingetorix', 'cheating', 'problemset', 'naveen', '518', 'collegiate', 'saturday', '162', '545', '002', 'sevlll777', 'june', 'allow', 'enough', 'russian', 'h', 'editorialupd3', '12register', 'de', '626', 'okwedook', 'part', 'whether', 'pavlekn', 'yawn', 'marzipan', 'higher', 'team', 'oursaco', 'talent', 'hyforces', 'educational', 'purple', 'fox', 'participating', 'would', 'lgm', '469', 'div2', 'qualifier', 'open', '01', 'yyyz04', 'fernando', 'upd1', '2750', 'cpp', 'systy', 'alenochka', 'immerser'}\n"
          ]
        }
      ]
    },
    {
      "cell_type": "code",
      "source": [
        "filtered_tokens = [word for word in lemmatized_tokens if len(word) < 3]\n",
        "filtered_tokens"
      ],
      "metadata": {
        "colab": {
          "base_uri": "https://localhost:8080/"
        },
        "id": "ycufzvm9a0Gx",
        "outputId": "e674140d-4813-40dc-ea27-e2963d1d52a6"
      },
      "execution_count": null,
      "outputs": [
        {
          "output_type": "execute_result",
          "data": {
            "text/plain": [
              "['c',\n",
              " 'c',\n",
              " '14',\n",
              " '6',\n",
              " '32',\n",
              " 'c',\n",
              " '17',\n",
              " '7',\n",
              " '32',\n",
              " '3',\n",
              " '20',\n",
              " '07',\n",
              " '1',\n",
              " '2',\n",
              " '3',\n",
              " '4',\n",
              " '5',\n",
              " '6',\n",
              " '7',\n",
              " '8',\n",
              " '9',\n",
              " '10',\n",
              " '1',\n",
              " '2',\n",
              " '3',\n",
              " '4',\n",
              " '5',\n",
              " '6',\n",
              " '7',\n",
              " '8',\n",
              " '9',\n",
              " 'um',\n",
              " '9',\n",
              " '1',\n",
              " '2',\n",
              " 'dv',\n",
              " '3',\n",
              " '10',\n",
              " '3',\n",
              " 'ai',\n",
              " '1',\n",
              " 'gm',\n",
              " '5',\n",
              " '3',\n",
              " 'k',\n",
              " 'xp',\n",
              " '50',\n",
              " '3',\n",
              " '4',\n",
              " '3',\n",
              " '19',\n",
              " '11',\n",
              " '05',\n",
              " '12',\n",
              " '8',\n",
              " '2',\n",
              " '15',\n",
              " '10',\n",
              " 'le',\n",
              " 'pa',\n",
              " 'na',\n",
              " '17',\n",
              " '4',\n",
              " '13',\n",
              " '4',\n",
              " '1',\n",
              " '2',\n",
              " '16',\n",
              " '17',\n",
              " '35',\n",
              " '6',\n",
              " '2',\n",
              " '15',\n",
              " '1',\n",
              " '2',\n",
              " '2',\n",
              " '1',\n",
              " 'u',\n",
              " 'op',\n",
              " 'de',\n",
              " 'ch',\n",
              " 'yi',\n",
              " 'g',\n",
              " 'yi',\n",
              " '1',\n",
              " '1',\n",
              " '1',\n",
              " '2',\n",
              " '4',\n",
              " '2',\n",
              " '4',\n",
              " '15',\n",
              " '17',\n",
              " '35',\n",
              " '2',\n",
              " '10',\n",
              " '12',\n",
              " '6',\n",
              " '7',\n",
              " '2',\n",
              " 'e',\n",
              " '18',\n",
              " 'e',\n",
              " '2',\n",
              " '4',\n",
              " '3',\n",
              " '8',\n",
              " '11',\n",
              " '17',\n",
              " '35',\n",
              " '3',\n",
              " '7',\n",
              " '2',\n",
              " '15',\n",
              " '12',\n",
              " '10',\n",
              " 'le',\n",
              " 'c',\n",
              " 'c',\n",
              " '14',\n",
              " '6',\n",
              " '32',\n",
              " 'c',\n",
              " '17',\n",
              " '7',\n",
              " '32',\n",
              " '3',\n",
              " '8',\n",
              " '13',\n",
              " 'hi',\n",
              " '4',\n",
              " '5',\n",
              " '1',\n",
              " '08',\n",
              " '12',\n",
              " '05',\n",
              " '09',\n",
              " '12',\n",
              " '05',\n",
              " '1',\n",
              " '2',\n",
              " '13',\n",
              " '64',\n",
              " '2',\n",
              " '3',\n",
              " '2',\n",
              " '05',\n",
              " '17',\n",
              " '35',\n",
              " 'g',\n",
              " 'v',\n",
              " '6',\n",
              " '2',\n",
              " 'np',\n",
              " '2',\n",
              " '2',\n",
              " '1',\n",
              " '99',\n",
              " '2',\n",
              " '3',\n",
              " '3',\n",
              " 'hi',\n",
              " '2',\n",
              " '7',\n",
              " '5',\n",
              " '5',\n",
              " '30',\n",
              " '20',\n",
              " '30',\n",
              " '30',\n",
              " '3',\n",
              " '34',\n",
              " '2',\n",
              " 'h',\n",
              " '3',\n",
              " '2',\n",
              " '01',\n",
              " '17',\n",
              " '35',\n",
              " '2',\n",
              " '5',\n",
              " '2',\n",
              " 'g',\n",
              " 'er',\n",
              " '83',\n",
              " '30',\n",
              " '1',\n",
              " 'um',\n",
              " '2',\n",
              " '3',\n",
              " '4',\n",
              " '5',\n",
              " '1',\n",
              " '2',\n",
              " '3',\n",
              " '1',\n",
              " '4',\n",
              " '5',\n",
              " '2',\n",
              " 'h',\n",
              " '3',\n",
              " '1',\n",
              " '2',\n",
              " '3',\n",
              " '1',\n",
              " '2',\n",
              " '29',\n",
              " '17',\n",
              " '35',\n",
              " '6',\n",
              " '2',\n",
              " 'gm',\n",
              " 'im',\n",
              " 'cm',\n",
              " 'fd',\n",
              " 'lh',\n",
              " 'bf',\n",
              " '1',\n",
              " '2',\n",
              " '1',\n",
              " '1',\n",
              " '2',\n",
              " '3',\n",
              " '4',\n",
              " '5',\n",
              " '2',\n",
              " '1',\n",
              " '2',\n",
              " '3',\n",
              " '4',\n",
              " '5',\n",
              " '1',\n",
              " '2',\n",
              " '3',\n",
              " '1',\n",
              " '2',\n",
              " '3',\n",
              " 'c',\n",
              " '2',\n",
              " '0',\n",
              " '18',\n",
              " '14',\n",
              " '57',\n",
              " '49',\n",
              " 'j1']"
            ]
          },
          "metadata": {},
          "execution_count": 14
        }
      ]
    }
  ]
}